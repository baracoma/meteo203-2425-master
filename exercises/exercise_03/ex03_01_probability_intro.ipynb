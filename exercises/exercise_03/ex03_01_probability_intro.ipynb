{
 "cells": [
  {
   "cell_type": "markdown",
   "id": "777a4bae-0742-4e8a-96a6-a7b7ec67a149",
   "metadata": {},
   "source": [
    "# Exercise 3. Comprehensive Introduction to Probability\n",
    "\n",
    "## Part 1. Basic Probability Concepts\n",
    "---\n",
    "### Task 1. Generate a Synthetic Dataset Representing Rain/No Rain Days Over a Year\n",
    "\n",
    "1. Create a dataset with 365 entries, each representing a day of the year.\n",
    "2. Assign a binary value for each day: 1 for a rainy day, and 0 for a non-rainy day.\n",
    "3. Assume that the probability of a rainy day is 30%."
   ]
  },
  {
   "cell_type": "code",
   "execution_count": null,
   "id": "e341170e-5f21-49c7-88b4-bd48ad32e738",
   "metadata": {},
   "outputs": [],
   "source": [
    "import numpy as np\n",
    "import pandas as pd\n",
    "\n",
    "# Set the random seed for reproducibility\n",
    "np.random.seed(42)\n",
    "\n",
    "# Generate 365 days of rain/no rain data with a 30% probability of rain\n",
    "days = 365\n",
    "rain_data = np.random.choice([0, 1], size=days, p=[0.7, 0.3])\n",
    "\n",
    "# Create a DataFrame with a proper datetime index\n",
    "df = pd.DataFrame({\n",
    "    'Day': pd.date_range(start='2023-01-01', periods=days, freq='D'),\n",
    "    'Rain': rain_data\n",
    "})\n",
    "\n",
    "# Display the first few rows\n",
    "df.head()\n"
   ]
  },
  {
   "cell_type": "code",
   "execution_count": null,
   "id": "bad0c10a-3df4-4b2a-bcd2-36260fcb54b9",
   "metadata": {},
   "outputs": [],
   "source": [
    "import matplotlib.pyplot as plt\n",
    "import calendar\n",
    "\n",
    "# Create a function to plot the calendar grid\n",
    "def plot_calendar_heatmap(df):\n",
    "    fig, ax = plt.subplots(12, 1, figsize=(15, 20), constrained_layout=True)\n",
    "\n",
    "    # Iterate over each month\n",
    "    for month in range(1, 13):\n",
    "        # Filter data for the current month\n",
    "        month_data = df[df['Day'].dt.month == month]\n",
    "\n",
    "        # Create a grid for the calendar\n",
    "        month_days = month_data['Day'].dt.day\n",
    "        rain = month_data['Rain'].values\n",
    "\n",
    "        # Create a new subplot for the month\n",
    "        ax[month - 1].set_title(calendar.month_name[month], fontsize=14)\n",
    "        ax[month - 1].imshow(rain.reshape(1, -1), aspect='auto', cmap='Blues', vmin=0, vmax=1)\n",
    "\n",
    "        # Set ticks and labels\n",
    "        ax[month - 1].set_xticks(np.arange(len(month_days)))\n",
    "        ax[month - 1].set_xticklabels(month_days, fontsize=10)\n",
    "        ax[month - 1].set_yticks([])  # Hide y-axis\n",
    "\n",
    "    plt.suptitle(\"Rainy Days Calendar Heatmap\", fontsize=20)\n",
    "    plt.show()\n",
    "\n",
    "# Plot the calendar heatmap\n",
    "plot_calendar_heatmap(df)\n"
   ]
  },
  {
   "cell_type": "markdown",
   "id": "e3597263-bdf7-48f7-8ac1-e544d95457de",
   "metadata": {},
   "source": [
    "#### Questions\n",
    "1. How many rainy days are there in the dataset? Is it close to the expected 30% of the 365 days? Clue ```df.Rain.sum()```\n",
    "2. Does the distribution of rainy and non-rainy days look random or do you notice any patterns?"
   ]
  },
  {
   "cell_type": "markdown",
   "id": "da866854-84ff-4bc4-a7b9-8469ec2c605b",
   "metadata": {},
   "source": []
  },
  {
   "cell_type": "markdown",
   "id": "977ea9d5-3078-4c6a-9626-d4b8b88aeb8d",
   "metadata": {},
   "source": [
    "---\n",
    "### Task 2: Calculate the Frequency, Proportion, and Mean of Rain Days\n",
    "1. Calculate the total number of rainy days and the proportion of rainy days in the dataset.\n",
    "2. Calculate the mean, which in this binary case, represents the proportion of rainy days.\n",
    "\n",
    "Scripts for calculating basic statistics using Pandas can be found here: [Basic statistics on pandas DataFrame](https://github.com/kasiarachuta/Blog/blob/master/Basic%20statistics%20on%20pandas%20DataFrame.ipynb)"
   ]
  },
  {
   "cell_type": "code",
   "execution_count": null,
   "id": "40d74daa-986c-4e66-a8ca-93a7cd07e34d",
   "metadata": {},
   "outputs": [],
   "source": [
    "# Calculate total rainy days\n",
    "total_rainy_days = \n",
    "\n",
    "# Calculate the proportion of rainy days\n",
    "proportion_rainy_days =  # Clue n_rainy/total\n",
    "\n",
    "# Calculate the mean of the rain column\n",
    "mean_rain_days = # Clue just take the mean\n",
    "\n",
    "print(f\"Total Rainy Days: {total_rainy_days}\")\n",
    "print(f\"Proportion of Rainy Days: {proportion_rainy_days:.2f}\")\n",
    "print(f\"Mean of Rain Days: {mean_rain_days:.2f}\")\n"
   ]
  },
  {
   "cell_type": "markdown",
   "id": "5fcb1a15-d5d6-4dc9-b9ce-76d68ec3d7fd",
   "metadata": {},
   "source": [
    "#### Questions\n",
    "1. Does the mean match the proportion of rainy days? Why is this the case for binary data?\n",
    "2. If you were to repeat the simulation, would the number of rainy days always be exactly 30%? Why or why not?"
   ]
  },
  {
   "cell_type": "markdown",
   "id": "987f625c-8dbf-4086-b5db-6e99f86e64e3",
   "metadata": {},
   "source": []
  },
  {
   "cell_type": "markdown",
   "id": "0fbd8ee9-639b-4791-b4ba-fdf5f074b4aa",
   "metadata": {},
   "source": [
    "---\n",
    "### Task 3: Add a Second Variable (Wind Speed) to the Dataset\n",
    "1. We will add a second variable representing wind speed for each day.\n",
    "2. Assume the wind speed can be categorized as high (1) or low (0), with a 40% chance of high wind speed on any given day."
   ]
  },
  {
   "cell_type": "code",
   "execution_count": null,
   "id": "88909e7e-a622-4b4f-b1d3-de25481986e5",
   "metadata": {},
   "outputs": [],
   "source": [
    "# Generate high/low wind speed data with a 40% probability of high wind speed\n",
    "wind_data = np.random.choice([0, 1], size=days, p=[0.6, 0.4])\n",
    "\n",
    "# Add wind data to the DataFrame\n",
    "df['Wind'] = wind_data\n",
    "\n",
    "# Display the first few rows\n",
    "df.head()\n"
   ]
  },
  {
   "cell_type": "markdown",
   "id": "cbb00ba9-0bce-4eba-b219-139c353d9c55",
   "metadata": {},
   "source": [
    "#### Questions\n",
    "1. What is the overall proportion of days with high wind speed in the dataset? Does it match the expected 40% probability?"
   ]
  },
  {
   "cell_type": "markdown",
   "id": "9a5b7869-05c2-427e-8fae-4507dcf953a6",
   "metadata": {},
   "source": []
  },
  {
   "cell_type": "markdown",
   "id": "d6277b2e-871e-48ef-874a-7f2c099a0a32",
   "metadata": {},
   "source": [
    "---\n",
    "### Task 4: Calculate the Joint and Marginal Probabilities\n",
    "1. Calculate the joint probability of rain and high wind speed (i.e., both events occurring on the same day).\n",
    "2. Calculate the marginal probability of each event separately: the probability of rain and the probability of high wind speed."
   ]
  },
  {
   "cell_type": "code",
   "execution_count": null,
   "id": "0bc5f094-eb3e-4699-a988-c5fed54cf383",
   "metadata": {},
   "outputs": [],
   "source": [
    "# Calculate joint probability of rain and high wind speed\n",
    "joint_probability = len(df[(df['Rain'] == 1) & (df['Wind'] == 1)]) / days\n",
    "\n",
    "# Calculate probabilities \n",
    "probability_rain = # Remember task 2?\n",
    "probability_wind = \n",
    "\n",
    "print(f\"Joint Probability of Rain and High Wind: {joint_probability:.2f}\")\n",
    "print(f\" Probability of Rain: {probability_rain:.2f}\")\n",
    "print(f\" Probability of High Wind: {probability_wind:.2f}\")\n"
   ]
  },
  {
   "cell_type": "markdown",
   "id": "0c7e1dc9-af7a-4dcf-98a3-6955052c0a1a",
   "metadata": {},
   "source": [
    "#### QUestions\n",
    "1. What is the joint probability of a rainy day with high wind speed? How does it compare to the individual probabilities of rain and wind speed?\n",
    "2. Why is the joint probability generally lower than the individual marginal probabilities? What does this tell you about the relationship between rain and high wind?"
   ]
  },
  {
   "cell_type": "markdown",
   "id": "d463b0ce-72e4-4e17-b654-415343c75b18",
   "metadata": {},
   "source": []
  },
  {
   "cell_type": "markdown",
   "id": "54ca6e17-e850-420a-98c7-730e3f5c0c10",
   "metadata": {},
   "source": [
    "--- \n",
    "### Task 5: Visualize the Joint and Marginal Probabilities\n",
    "1. Create a stacked bar chart that shows the distribution of rainy and non-rainy days, split further by wind speed categories."
   ]
  },
  {
   "cell_type": "code",
   "execution_count": null,
   "id": "db351ea7-9780-476c-9193-108efd16cee5",
   "metadata": {},
   "outputs": [],
   "source": [
    "import seaborn as sns\n",
    "\n",
    "# Create a new column for combined categories\n",
    "df['Rain_Wind'] = df['Rain'].astype(str) + '_' + df['Wind'].astype(str)\n",
    "\n",
    "# Count occurrences of each category\n",
    "counts = df['Rain_Wind'].value_counts().sort_index()\n",
    "\n",
    "# Prepare data for the bar plot\n",
    "categories = ['0_0', '0_1', '1_0', '1_1']\n",
    "labels = ['No Rain, Low Wind', 'No Rain, High Wind', 'Rain, Low Wind', 'Rain, High Wind']\n",
    "\n",
    "# Plotting\n",
    "plt.figure(figsize=(10, 6))\n",
    "sns.barplot(x=labels, y=counts, palette='coolwarm')\n",
    "plt.title('Joint Distribution of Rain and Wind Speed')\n",
    "plt.xlabel('Category')\n",
    "plt.ylabel('Number of Days')\n",
    "plt.show()\n"
   ]
  },
  {
   "cell_type": "markdown",
   "id": "00d15330-ddfd-4d18-9936-ec2bda2ff9ac",
   "metadata": {},
   "source": [
    "#### Questions\n",
    "1. Based on the bar chart, which combination of events (rain and wind) is most common? Which is the least common?\n",
    "2. How does visualizing the joint distribution help in understanding the relationship between these variables? "
   ]
  },
  {
   "cell_type": "markdown",
   "id": "22cbcd79-af48-4195-9829-6b7089fc404d",
   "metadata": {},
   "source": []
  },
  {
   "cell_type": "markdown",
   "id": "3a031092-0d8c-4037-a0af-9f98d2a38ca0",
   "metadata": {},
   "source": [
    "---\n",
    "\n",
    "### Final Questions\n",
    "1. What is the difference between frequency and probability? How can we use probabilities to describe the likelihood of rain based on historical data?\n",
    "2. Why is it important to understand and calculate the proportion of rainy days in a dataset? How does this help us interpret climatological data?\n",
    "3. When calculating the joint probability of rain and high wind speed, what information does this provide compared to looking at the probability of each event separately?\n",
    "4. Explain the concept of conditional probability using the dataset from Notebook 1. How does the probability of rain change when conditioned on high wind speeds?\n",
    "5. Why is conditional probability useful in meteorology? How can it help improve the accuracy of weather forecasts?\n",
    "6. Based on the results from the dataset, how confident can we be about predicting rain based on temperature and wind conditions? What might be the limitations of such predictions?"
   ]
  },
  {
   "cell_type": "markdown",
   "id": "50798afe-0c75-4d79-8a2b-82573c3852a5",
   "metadata": {},
   "source": []
  }
 ],
 "metadata": {
  "kernelspec": {
   "display_name": "meteo203",
   "language": "python",
   "name": "meteo203"
  },
  "language_info": {
   "codemirror_mode": {
    "name": "ipython",
    "version": 3
   },
   "file_extension": ".py",
   "mimetype": "text/x-python",
   "name": "python",
   "nbconvert_exporter": "python",
   "pygments_lexer": "ipython3",
   "version": "3.10.14"
  }
 },
 "nbformat": 4,
 "nbformat_minor": 5
}
