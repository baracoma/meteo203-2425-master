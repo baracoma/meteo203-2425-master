{
 "cells": [
  {
   "cell_type": "markdown",
   "id": "755799ac-7828-450e-8993-c7f1deea0c15",
   "metadata": {},
   "source": [
    "# Lab Exercise 04: Fourier Transform and Filtering\n",
    "## Objective:\n",
    "\n",
    "In this lab, you will:\n",
    "\n",
    "1. Generate a synthetic Gaussian ripple pattern.\n",
    "2. Apply the Fast Fourier Transform (FFT) to the synthetic data and observe its frequency domain representation.\n",
    "3. Add regular horizontal scanlines to the data to simulate periodic noise.\n",
    "4. Apply FFT to the noisy data and compare the results\n",
    "5. Apply a filter in the frequency domain to remove the scanlines and restore the cleaned image.\n",
    "   \n",
    "**Answer** this notebook by updating the **Answers for Part. x** cell by **double clicking and typing your answers in a cell**. After finishing this notebook, upload in your github repository (**meteo203-2425-lastname/exercises/exercise_04_fouriertransform_noisefiltering.ipynb**)"
   ]
  },
  {
   "cell_type": "markdown",
   "id": "e3ca9a53-82f8-4971-8adf-579d0ee4b7eb",
   "metadata": {},
   "source": [
    "### Part 1: Generate Synthetic Gaussian-Weighted Ripple Data\n",
    "#### Task 1: Create and Plot Gaussian-Weighted Ripple Data\n",
    "\n",
    "You will first generate a Gaussian-weighted ripple pattern. This simulates a smooth sinusoidal pattern with more intensity at the center that gradually tapers off."
   ]
  },
  {
   "cell_type": "code",
   "execution_count": null,
   "id": "ed11ed1b-67a1-4752-89e4-7af448310d3f",
   "metadata": {},
   "outputs": [],
   "source": [
    "import numpy as np\n",
    "import matplotlib.pyplot as plt\n",
    "\n",
    "# Create a grid of points (like an image matrix)\n",
    "rows, cols = 256, 256  # Size of the synthetic image\n",
    "x = np.linspace(-5, 5, cols)\n",
    "y = np.linspace(-5, 5, rows)\n",
    "X, Y = np.meshgrid(x, y)\n",
    "\n",
    "# Generate ripple pattern using a 2D sinusoidal function\n",
    "ripple = np.sin(np.sqrt(X**2 + Y**2) * 5)  # Adjust frequency of ripples with multiplier\n",
    "\n",
    "# Generate a 2D Gaussian envelope\n",
    "sigma = 1.5  # Standard deviation of the Gaussian\n",
    "gaussian_envelope = np.exp(-(X**2 + Y**2) / (2 * sigma**2))\n",
    "\n",
    "# Apply the Gaussian envelope to the ripple pattern\n",
    "gaussian_ripple = ripple * gaussian_envelope\n",
    "\n",
    "# Plot the synthetic Gaussian-weighted ripple data\n",
    "plt.imshow(gaussian_ripple, cmap='gray')\n",
    "plt.title('Gaussian-Weighted Ripple Pattern')\n",
    "plt.axis('off')\n",
    "plt.show()\n"
   ]
  },
  {
   "cell_type": "markdown",
   "id": "4f33a8a5-15a8-4518-beb6-6c630720c839",
   "metadata": {},
   "source": [
    "#### Questions:\n",
    "\n",
    "1. How does the Gaussian weighting affect the appearance of the ripple pattern?\n",
    "2. In what types of meteorological or geophysical data might you encounter a similar Gaussian distribution?"
   ]
  },
  {
   "cell_type": "markdown",
   "id": "a86a63ab-ebb8-4b2e-af07-bf8b97712755",
   "metadata": {},
   "source": [
    "### Answers:"
   ]
  },
  {
   "cell_type": "markdown",
   "id": "26421048-2f95-4b3e-87f9-4f542acbb568",
   "metadata": {},
   "source": [
    "--- \n",
    "### Part 2: Apply FFT to the Gaussian Ripple Pattern\n",
    "#### Task 2: Perform FFT on the Gaussian Ripple Data\n",
    "\n",
    "You will now apply the Fast Fourier Transform (FFT) to the Gaussian ripple pattern and observe its frequency domain representation."
   ]
  },
  {
   "cell_type": "code",
   "execution_count": null,
   "id": "756ae216-c9f0-466e-82c1-82b28659eb40",
   "metadata": {},
   "outputs": [],
   "source": [
    "from numpy.fft import fft2, fftshift\n",
    "\n",
    "# Apply 2D FFT to the Gaussian-weighted ripple data\n",
    "fft_gaussian_ripple = fft2(gaussian_ripple)\n",
    "\n",
    "# Shift the zero-frequency component to the center of the spectrum\n",
    "fft_gaussian_ripple_shifted = fftshift(fft_gaussian_ripple)\n",
    "\n",
    "# Compute the magnitude spectrum\n",
    "magnitude_spectrum_gaussian_ripple = np.log(np.abs(fft_gaussian_ripple_shifted) + 1)\n",
    "\n",
    "# Plot the magnitude spectrum of the FFT of the Gaussian ripple\n",
    "plt.imshow(magnitude_spectrum_gaussian_ripple, cmap='gray')\n",
    "plt.title('FFT Magnitude Spectrum of Gaussian Ripple Pattern')\n",
    "plt.axis('off')\n",
    "plt.show()\n"
   ]
  },
  {
   "cell_type": "markdown",
   "id": "2a193f84-7154-4017-8cfc-769d2000888a",
   "metadata": {},
   "source": [
    "### Questions:\n",
    "\n",
    "1. How does the FFT magnitude spectrum represent the spatial pattern of the ripple?\n",
    "2. Where are the low and high frequencies located in the FFT?"
   ]
  },
  {
   "cell_type": "markdown",
   "id": "1e986bd2-9c9a-43ad-8b03-010b7bbf6955",
   "metadata": {},
   "source": [
    "### Answers:"
   ]
  },
  {
   "cell_type": "code",
   "execution_count": null,
   "id": "ce79adea-7a5a-4579-94b1-ba9e7c2bf4cf",
   "metadata": {},
   "outputs": [],
   "source": []
  },
  {
   "cell_type": "code",
   "execution_count": null,
   "id": "c2a34e2a-73dd-4969-9255-6b18483ba7d4",
   "metadata": {},
   "outputs": [],
   "source": [
    "from numpy.fft import ifft2, ifftshift\n",
    "\n",
    "# Perform inverse FFT shift to move the zero-frequency component back to its original position\n",
    "ifft_shifted = ifftshift(fft_gaussian_ripple_shifted)\n",
    "\n",
    "# Apply the inverse FFT to restore the image from the frequency domain\n",
    "restored_gaussian_image = np.abs(ifft2(ifft_shifted))\n",
    "\n",
    "# Display the restored image\n",
    "plt.imshow(restored_gaussian_image, cmap='gray')\n",
    "plt.title('Restored Gaussian Ripple Image Using IFFT')\n",
    "plt.axis('off')\n",
    "plt.show()\n"
   ]
  },
  {
   "cell_type": "markdown",
   "id": "c6cf69ad-5dca-4a76-987f-08bcd74c5a5e",
   "metadata": {},
   "source": [
    "---\n",
    "### Part 3: Restore the Gaussian Ripple Image Using Inverse FFT (IFFT)\n",
    "#### Task 3: Perform Inverse FFT to Restore the Image\n",
    "\n",
    "In this task, you will use the Inverse Fast Fourier Transform (IFFT) to convert the frequency domain representation of the Gaussian ripple pattern back to the spatial domain. This will allow you to verify that the transformation is correct and that the original image can be reconstructed."
   ]
  },
  {
   "cell_type": "code",
   "execution_count": null,
   "id": "e0e26a33-a05d-40ed-b530-895acb1f9d53",
   "metadata": {},
   "outputs": [],
   "source": [
    "from numpy.fft import ifft2, ifftshift\n",
    "\n",
    "# Perform inverse FFT shift to move the zero-frequency component back to its original position\n",
    "ifft_shifted = ifftshift(fft_gaussian_ripple_shifted)\n",
    "\n",
    "# Apply the inverse FFT to restore the image from the frequency domain\n",
    "restored_gaussian_image = np.abs(ifft2(ifft_shifted))\n",
    "\n",
    "# Display the restored image\n",
    "plt.imshow(restored_gaussian_image, cmap='gray')\n",
    "plt.title('Restored Gaussian Ripple Image Using IFFT')\n",
    "plt.axis('off')\n",
    "plt.show()\n"
   ]
  },
  {
   "cell_type": "markdown",
   "id": "d1e86285-3ea6-4b29-8a90-93052c4dd847",
   "metadata": {},
   "source": [
    "### Questions:\n",
    "\n",
    "1. How does the restored image compare to the original Gaussian ripple pattern?\n",
    "2. Were there any artifacts introduced during the FFT and IFFT process?"
   ]
  },
  {
   "cell_type": "markdown",
   "id": "455f6c11-1cab-4473-b282-1216a9a43ad1",
   "metadata": {},
   "source": [
    "### Answers"
   ]
  },
  {
   "cell_type": "markdown",
   "id": "04756e20-5a4e-4c94-8293-7ac34e40a121",
   "metadata": {},
   "source": [
    "---\n",
    "\n",
    "### Part 4: Add Horizontal Scanlines to the Gaussian Ripple Data\n",
    "#### Task 4: Add Regular Horizontal Scanlines\n",
    "\n",
    "Next, you will add horizontal scanlines to the Gaussian ripple pattern to simulate periodic noise, like what might occur in real-world imaging or data acquisition systems."
   ]
  },
  {
   "cell_type": "code",
   "execution_count": null,
   "id": "0448296c-ca59-4652-847a-c6f79dcc70bf",
   "metadata": {},
   "outputs": [],
   "source": [
    "# Add horizontal scanlines (regularly spaced horizontal lines)\n",
    "gaussian_ripple_with_scanlines = gaussian_ripple.copy()\n",
    "scan_dist = # modify scanline distance here\n",
    "gaussian_ripple_with_scanlines[::scan_dist, :] += 0.5  # Add scanlines every 10th row with an intensity increase\n",
    "\n",
    "# Plot the Gaussian ripple data with horizontal scanlines\n",
    "plt.imshow(gaussian_ripple_with_scanlines, cmap='gray')\n",
    "plt.title('Gaussian Ripple Pattern with Horizontal Scanlines')\n",
    "plt.axis('off')\n",
    "plt.show()\n"
   ]
  },
  {
   "cell_type": "markdown",
   "id": "f9893494-7228-4149-808a-5aaac3bcb7dd",
   "metadata": {},
   "source": [
    "### Questions:\n",
    "\n",
    "1. How do the horizontal scanlines affect the appearance of the Gaussian ripple pattern in the spatial domain?\n",
    "2. How might these scanlines resemble real-world periodic noise?"
   ]
  },
  {
   "cell_type": "markdown",
   "id": "f202dd96-2d4c-4bd5-8818-8b83df34146d",
   "metadata": {},
   "source": [
    "### Answers:"
   ]
  },
  {
   "cell_type": "markdown",
   "id": "0c1eac2a-8aaf-4ff2-bbf0-9119a5954c0e",
   "metadata": {},
   "source": [
    "---\n",
    "### Part 5: Apply FFT to the Gaussian Ripple with Scanlines\n",
    "#### Task 5: Perform FFT on the Gaussian Ripple with Scanlines\n",
    "\n",
    "Now, apply the FFT to the Gaussian ripple pattern with scanlines and observe how the noise appears in the frequency domain."
   ]
  },
  {
   "cell_type": "code",
   "execution_count": null,
   "id": "74005300-49a7-4a67-8e6b-a9cadfb7a5ec",
   "metadata": {},
   "outputs": [],
   "source": [
    "# Apply 2D FFT to the Gaussian ripple data with scanlines\n",
    "fft_gaussian_ripple_scanlines = fft2(gaussian_ripple_with_scanlines)\n",
    "\n",
    "# Shift the zero-frequency component to the center of the spectrum\n",
    "fft_gaussian_ripple_scanlines_shifted = fftshift(fft_gaussian_ripple_scanlines)\n",
    "\n",
    "# Compute the magnitude spectrum of the FFT with scanlines\n",
    "magnitude_spectrum_gaussian_scanlines = np.log(np.abs(fft_gaussian_ripple_scanlines_shifted) + 1)\n",
    "\n",
    "# Plot the magnitude spectrum of the FFT with scanlines\n",
    "plt.imshow(magnitude_spectrum_gaussian_scanlines, cmap='gray')\n",
    "plt.title('FFT Magnitude Spectrum of Gaussian Ripple Pattern with Scanlines')\n",
    "plt.axis('off')\n",
    "plt.show()\n"
   ]
  },
  {
   "cell_type": "markdown",
   "id": "6cd6dc4b-2b09-4746-87c3-8712c940b0c7",
   "metadata": {},
   "source": [
    "#### Questions:\n",
    "\n",
    "1. How does the FFT magnitude spectrum of the Gaussian ripple with scanlines compare to the version without scanlines?\n",
    "2. Where do the frequencies associated with the scanlines appear in the frequency domain?"
   ]
  },
  {
   "cell_type": "markdown",
   "id": "3f3ce974-9f2a-4528-88ad-d59643fd159a",
   "metadata": {},
   "source": [
    "### Answers:"
   ]
  },
  {
   "cell_type": "markdown",
   "id": "e8e5772e-e2c1-4e3f-bc15-af30777ab810",
   "metadata": {},
   "source": [
    "---\n",
    "### Part 6: Filter the FFT to Remove Scanlines and Restore the Image\n",
    "#### Task 6: Apply Vertical Band-Stop Filter to Remove Scanlines\n",
    "\n",
    "We will now apply a vertical band-stop filter to remove the scanline frequencies in the FFT and then restore the image."
   ]
  },
  {
   "cell_type": "code",
   "execution_count": null,
   "id": "4123c945-695c-4ba5-bf2c-f11167ead0bb",
   "metadata": {},
   "outputs": [],
   "source": [
    "# Create a vertical band-stop mask to filter out scanline frequencies\n",
    "rows, cols = gaussian_ripple_with_scanlines.shape\n",
    "crow, ccol = rows // 2 , cols // 2  # Center of the FFT\n",
    "\n",
    "# Create a mask with ones everywhere (no filtering initially)\n",
    "mask = np.ones((rows, cols), dtype=np.uint8)\n",
    "\n",
    "# Define the width of the vertical band to be filtered\n",
    "band_width = 1  # Adjust based on the appearance of the scanlines in the FFT\n",
    "\n",
    "# Vertical band-stop filter (filtering horizontal frequencies that cause vertical artifacts)\n",
    "mask[:, ccol-band_width:ccol+band_width] = 0  # Zero out a vertical band in the FFT\n",
    "\n",
    "# Apply the mask to the FFT with scanlines\n",
    "filtered_fft_gaussian_scanlines = fft_gaussian_ripple_scanlines_shifted * mask\n",
    "\n",
    "# Compute and display the filtered magnitude spectrum\n",
    "filtered_magnitude_spectrum_gaussian_scanlines = np.log(np.abs(filtered_fft_gaussian_scanlines) + 1)\n",
    "plt.imshow(filtered_magnitude_spectrum_gaussian_scanlines, cmap='gray')\n",
    "plt.title('Filtered FFT Magnitude Spectrum (Vertical Mask for Scanlines)')\n",
    "plt.axis('off')\n",
    "plt.show()\n"
   ]
  },
  {
   "cell_type": "markdown",
   "id": "06d39b9c-5fad-4ade-b113-1da44f1a645b",
   "metadata": {},
   "source": [
    "### Questions:\n",
    "\n",
    "1. How does the filtered FFT spectrum compare to the original spectrum with scanlines?\n",
    "2. How effective is the vertical band-stop filter at removing the scanline frequencies?"
   ]
  },
  {
   "cell_type": "markdown",
   "id": "af528688-2e84-4106-ac02-ac1bf344166a",
   "metadata": {},
   "source": [
    "### Answers:"
   ]
  },
  {
   "cell_type": "markdown",
   "id": "c14ea2b1-d3a8-423a-8a58-033de7b5804d",
   "metadata": {},
   "source": [
    "---\n",
    "### Part 6: Perform Inverse FFT and Normalize the Restored Image\n",
    "#### Task 6: Perform Inverse FFT and Normalize the Restored Image\n",
    "\n",
    "Finally, perform the inverse FFT to restore the image and normalize the brightness for better visual clarity."
   ]
  },
  {
   "cell_type": "code",
   "execution_count": null,
   "id": "f300940f-d3df-4677-a67d-32205f7d3bbf",
   "metadata": {},
   "outputs": [],
   "source": [
    "from numpy.fft import ifft2, ifftshift\n",
    "\n",
    "# Apply inverse shift to move the frequency components back\n",
    "ifft_shifted = ifftshift(filtered_fft_gaussian_scanlines)\n",
    "\n",
    "# Apply inverse FFT to get the filtered image\n",
    "filtered_gaussian_image = np.abs(ifft2(ifft_shifted))\n",
    "\n",
    "# Normalize the restored image (0 to 1 range)\n",
    "filtered_gaussian_image_normalized = (filtered_gaussian_image - np.min(filtered_gaussian_image)) / (np.max(filtered_gaussian_image) - np.min(filtered_gaussian_image))\n",
    "\n",
    "# Optionally, brighten the image by scaling pixel values (e.g., multiply by a constant)\n",
    "brightness_factor = 1.5\n",
    "filtered_gaussian_image_brightened = np.clip(filtered_gaussian_image_normalized * brightness_factor, 0, 1)\n",
    "\n",
    "# Display the brightened restored image\n",
    "plt.imshow(filtered_gaussian_image_brightened, cmap='gray')\n",
    "plt.title('Restored and Brightened Gaussian Ripple Image After Removing Scanlines')\n",
    "plt.axis('off')\n",
    "plt.show()\n"
   ]
  },
  {
   "cell_type": "markdown",
   "id": "ebd8f520-6121-4568-8cf6-610b5c8b683f",
   "metadata": {},
   "source": [
    "### Questions:\n",
    "\n",
    "1. How does the restored image compare to the original image with scanlines?\n",
    "2. Were the horizontal scanlines successfully removed by the filter?\n",
    "3. How did adjusting the brightness affect the final restored image?"
   ]
  },
  {
   "cell_type": "markdown",
   "id": "b44ce134-1b04-4d5c-8a69-701f308fe710",
   "metadata": {},
   "source": [
    "### Answers:"
   ]
  },
  {
   "cell_type": "markdown",
   "id": "768750b5-2c50-402d-8f06-ac892e5588ba",
   "metadata": {},
   "source": [
    "---\n",
    "\n",
    "### Final Discussion Questions:\n",
    "\n",
    "1. How does the Gaussian weighting of the ripple pattern affect the distribution of frequencies in the FFT?\n",
    "2. Why is a vertical band-stop filter effective in removing horizontal scanlines in the frequency domain?\n",
    "3. How might this approach of Fourier filtering be applied in real-world scenarios, such as removing periodic noise from meteorological or satellite data?"
   ]
  },
  {
   "cell_type": "markdown",
   "id": "139e8f70-a635-4cec-9b53-1c71f9cf9a50",
   "metadata": {},
   "source": [
    "### Answers:"
   ]
  },
  {
   "cell_type": "code",
   "execution_count": null,
   "id": "cbf61c1f-971f-4606-84c0-b6af73afc5d8",
   "metadata": {},
   "outputs": [],
   "source": []
  }
 ],
 "metadata": {
  "kernelspec": {
   "display_name": "meteo203",
   "language": "python",
   "name": "meteo203"
  },
  "language_info": {
   "codemirror_mode": {
    "name": "ipython",
    "version": 3
   },
   "file_extension": ".py",
   "mimetype": "text/x-python",
   "name": "python",
   "nbconvert_exporter": "python",
   "pygments_lexer": "ipython3",
   "version": "3.10.14"
  }
 },
 "nbformat": 4,
 "nbformat_minor": 5
}
