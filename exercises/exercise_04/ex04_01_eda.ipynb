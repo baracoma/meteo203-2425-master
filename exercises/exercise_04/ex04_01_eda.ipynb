{
 "cells": [
  {
   "cell_type": "markdown",
   "id": "3a665ff1-9718-4415-9f5d-7fce80c19638",
   "metadata": {},
   "source": [
    "# Exercise 4. Exploratory Data Analysis (EDA)\n",
    "\n",
    "## Task 1. Loading the dataset.\n",
    "Load the dataset `2009_SCIENCE_GARDEN.csv` using the relative path provided. Display the first few rows of the data to understand its structure, and check for any missing values."
   ]
  },
  {
   "cell_type": "code",
   "execution_count": null,
   "id": "02c4b169-000d-40a2-a452-23917aff07ea",
   "metadata": {},
   "outputs": [],
   "source": [
    "import pandas as pd\n",
    "\n",
    "# Load the dataset using the relative path\n",
    "data_path = '../../lessons/03_statistics/data/2009_SCIENCE_GARDEN.csv'\n",
    "df = pd.read_csv(data_path)\n",
    "\n",
    "# Display first few rows\n",
    "df.head()\n",
    "\n",
    "# Display basic info\n",
    "df.info()\n",
    "\n",
    "# Check for missing values\n",
    "df.isnull().sum()\n"
   ]
  },
  {
   "cell_type": "markdown",
   "id": "859117c5-42e1-4c4a-888e-56a807f6b44d",
   "metadata": {},
   "source": [
    "#### Questions\n",
    "1. Are there missing values in the dataset? Which columns contain these missing values?\n",
    "2. Based on the first few rows, what variables are available in this dataset, and what types of data do they contain?"
   ]
  },
  {
   "cell_type": "markdown",
   "id": "3a4eca3a-81c9-453b-a3ef-3c343b8e8e93",
   "metadata": {},
   "source": []
  },
  {
   "cell_type": "markdown",
   "id": "c433a7dd-1b53-40e5-9919-7a780e4d6d0c",
   "metadata": {},
   "source": [
    "---\n",
    "## Task 2: Summary Statistics\n",
    "Calculate and interpret the summary statistics (mean, median, min, max, standard deviation) for each numeric column in the dataset"
   ]
  },
  {
   "cell_type": "code",
   "execution_count": null,
   "id": "bf6c3a11-a896-47e8-ac5a-56203fd960f0",
   "metadata": {},
   "outputs": [],
   "source": [
    "# Summary statistics\n",
    "summary_stats = df.describe()\n",
    "summary_stats\n",
    "\n",
    "# Calculate specific statistics for the \"Daily Rainfall\" column\n",
    "rainfall_mean = df['Daily Rainfall'].mean()\n",
    "rainfall_median = df['Daily Rainfall'].median()\n",
    "\n",
    "print(f\"Mean Rainfall: {rainfall_mean:.2f}\")\n",
    "print(f\"Median Rainfall: {rainfall_median:.2f}\")\n",
    "\n",
    "mean_temp_mean = \n",
    "mean_temp_median = \n",
    "\n",
    "print(f\"Mean of Mean Temperature: {mean_temp_mean:.2f}\")\n",
    "print(f\"Median Mean Temperature: {mean_temp_median:.2f}\")"
   ]
  },
  {
   "cell_type": "markdown",
   "id": "1e9f6cfa-f565-4fbb-aea0-c42148b6a6f0",
   "metadata": {},
   "source": [
    "### Questions:\n",
    "\n",
    "1. What are the mean and median values for Daily Rainfall? Mean Temperature? Max Temperature? Minimum Temperature?\n",
    "2. How does the mean compare to the median for each variable? What might this indicate about the data's distribution?\n",
    "3. What is the maximum daily rainfall? How might this represent extreme weather events?"
   ]
  },
  {
   "cell_type": "markdown",
   "id": "36cc23d0-d92a-4243-af64-d889a0c9093a",
   "metadata": {},
   "source": []
  },
  {
   "cell_type": "markdown",
   "id": "08f517d6-d5ec-48df-a4d7-60b7cad72bd9",
   "metadata": {},
   "source": [
    "---\n",
    "## Task 3: Histogram for Rainfall Distribution\n",
    "Create a histogram for `Daily Rainfall` to visualize its distribution. Look for any skewness or extreme values in the rainfall data."
   ]
  },
  {
   "cell_type": "code",
   "execution_count": null,
   "id": "a9800b81-109d-409c-afa2-3988bbdd6390",
   "metadata": {},
   "outputs": [],
   "source": [
    "import matplotlib.pyplot as plt\n",
    "\n",
    "# Histogram for Daily Rainfall\n",
    "plt.figure(figsize=(8, 5))\n",
    "plt.hist(df['Daily Rainfall'].dropna(), bins=20, color='skyblue', edgecolor='black')\n",
    "plt.title('Daily Rainfall Distribution')\n",
    "plt.xlabel('Daily Rainfall (mm)')\n",
    "plt.ylabel('Frequency')\n",
    "plt.show()\n"
   ]
  },
  {
   "cell_type": "markdown",
   "id": "814ceae3-060f-49dc-82a6-8938efdc4f1c",
   "metadata": {},
   "source": [
    "### Questions\n",
    "\n",
    "1. Describe the shape of the Daily Rainfall distribution. Is it symmetric, positively skewed, or negatively skewed?\n",
    "2. How might the shape of the histogram reflect the frequency of rainy versus dry days?"
   ]
  },
  {
   "cell_type": "markdown",
   "id": "087bfbfb-f178-4230-9609-99d593c09e58",
   "metadata": {},
   "source": [
    "---\n",
    "## Task 4. Analyze Rainy Days Only\n",
    "Drop the days with zero rainfall and create a new histogram for `Daily Rainfall`. Compare this histogram to the one in Task 3 to see how excluding zero-rain days changes the distribution.\n"
   ]
  },
  {
   "cell_type": "code",
   "execution_count": null,
   "id": "a2ef2a4c-1892-4dcf-96d8-cfd1796a87e2",
   "metadata": {},
   "outputs": [],
   "source": [
    "# Create a new DataFrame that only includes days with rainfall\n",
    "rainy_days_df = df[df['DAILY RAINFALL'] > 0]\n",
    "\n",
    "# Plot histogram for Daily Rainfall (rainy days only)\n",
    "plt.figure(figsize=(8, 5))\n",
    "plt.hist(rainy_days_df['DAILY RAINFALL'], bins=20, color='skyblue', edgecolor='black')\n",
    "plt.title('Daily Rainfall Distribution (Rainy Days Only)')\n",
    "plt.xlabel('Daily Rainfall (mm)')\n",
    "plt.ylabel('Frequency')\n",
    "plt.show()\n"
   ]
  },
  {
   "cell_type": "markdown",
   "id": "487e9dc2-739e-41fe-bf1b-9757ba2440be",
   "metadata": {},
   "source": [
    "### Questions\n",
    "1. How does this histogram differ from the previous histogram that included all days?\n",
    "2. How does excluding zero-rain days affect the mean and median of daily rainfall? HINT: compare `rainy_days_df['DAILY RAINFALL'].mean()` and `df['DAILY RAINFALL'].mean()`. Use additional cells if needed.\n",
    "3. In what scenarios might it be useful to exclude zero-rain days versus include them?"
   ]
  },
  {
   "cell_type": "markdown",
   "id": "d93c88fe-7f08-4f7c-afd7-7e758cc37343",
   "metadata": {},
   "source": [
    "---\n",
    "## Task 5: Cumulative Rainfall Over Time\n",
    "Calculate the cumulative rainfall over time to observe how rainfall accumulates. Plot the cumulative rainfall to identify any trends or periods with significant rainfall."
   ]
  },
  {
   "cell_type": "code",
   "execution_count": null,
   "id": "3667582b-93eb-4394-8f39-2c94bf5fe0ef",
   "metadata": {},
   "outputs": [],
   "source": [
    "import matplotlib.pyplot as plt\n",
    "import matplotlib.dates as mdates\n",
    "\n",
    "# Calculate cumulative rainfall\n",
    "df['Cumulative Rainfall'] = df['DAILY RAINFALL'].cumsum()\n",
    "\n",
    "# Plot cumulative rainfall over time with monthly x-axis ticks\n",
    "plt.figure(figsize=(10, 5))\n",
    "plt.plot(df['DATE'], df['Cumulative Rainfall'], color='tab:blue')\n",
    "plt.title('Cumulative Rainfall Over Time')\n",
    "plt.xlabel('Date')\n",
    "plt.ylabel('Cumulative Rainfall (mm)')\n",
    "\n",
    "# Set x-axis to display months\n",
    "plt.gca().xaxis.set_major_locator(mdates.MonthLocator())\n",
    "plt.gca().xaxis.set_major_formatter(mdates.DateFormatter('%b'))  # Format as 'Month Year'\n",
    "\n",
    "plt.xticks(rotation=45)  # Rotate labels for readability\n",
    "plt.tight_layout()\n",
    "plt.show()"
   ]
  },
  {
   "cell_type": "markdown",
   "id": "9ff95552-634d-4f77-9efd-e429ae3eeaf6",
   "metadata": {},
   "source": [
    "### Questions\n",
    "\n",
    "1. Describe the trend of cumulative rainfall over time. Are there any periods with rapid accumulation?\n",
    "2. What could be some causes for sudden increases in cumulative rainfall?"
   ]
  },
  {
   "cell_type": "markdown",
   "id": "c3336df7-f31d-41a1-9cde-ca0688a3f895",
   "metadata": {},
   "source": []
  },
  {
   "cell_type": "markdown",
   "id": "eabe9155-ca73-4dfa-bd7c-dd2ab76a6a21",
   "metadata": {},
   "source": [
    "---\n",
    "## Task 6. Handling Outliers in Daily Rainfall\n",
    "The `Daily Rainfall` data contains several extreme outliers and many zero-rain days. For this part of the exercise:\n",
    "\n",
    "- First, filter the data to exclude zero-rain days.\n",
    "- Then, filter out rainfall values above the 95th percentile to remove extreme outliers.\n",
    "- Plot a new boxplot for the filtered data.\n",
    "- Compare the summary statistics (mean and median) for:\n",
    "    - All days (including zero-rain and outliers)\n",
    "    - Rainy days only (excluding zero-rain)\n",
    "    - Filtered rainy days (excluding zero-rain and the top 5% of rainfall values)"
   ]
  },
  {
   "cell_type": "code",
   "execution_count": null,
   "id": "a2a39473-d6ef-44da-95dc-2776aa74c75a",
   "metadata": {},
   "outputs": [],
   "source": [
    "# Calculate the 95th percentile for DAILY RAINFALL (non-zero only)\n",
    "threshold = df[df['DAILY RAINFALL'] > 0]['DAILY RAINFALL'].quantile(0.95)\n",
    "\n",
    "# Filter data to exclude zero-rain days\n",
    "rainy_days_df = df[df['DAILY RAINFALL'] > 0]\n",
    "\n",
    "# Further filter to exclude outliers above the 95th percentile\n",
    "filtered_rainy_days_df = rainy_days_df[rainy_days_df['DAILY RAINFALL'] <= threshold]\n",
    "\n",
    "# Plot boxplot for filtered DAILY RAINFALL data (rainy days only, no extreme outliers)\n",
    "plt.figure(figsize=(6, 4))\n",
    "plt.boxplot(filtered_rainy_days_df['DAILY RAINFALL'], vert=False)\n",
    "plt.title('DAILY RAINFALL Boxplot (Filtered Rainy Days Only)')\n",
    "plt.xlabel('DAILY RAINFALL (mm)')\n",
    "plt.show()\n",
    "\n",
    "# Summary statistics\n",
    "# All days (with zeros and outliers)\n",
    "original_mean = df['DAILY RAINFALL'].mean()\n",
    "original_median = df['DAILY RAINFALL'].median()\n",
    "\n",
    "# Rainy days only (no zeros, but includes outliers)\n",
    "rainy_mean = rainy_days_df['DAILY RAINFALL'].mean()\n",
    "rainy_median = rainy_days_df['DAILY RAINFALL'].median()\n",
    "\n",
    "# Filtered rainy days only (no zeros, no extreme outliers)\n",
    "filtered_mean = filtered_rainy_days_df['DAILY RAINFALL'].mean()\n",
    "filtered_median = filtered_rainy_days_df['DAILY RAINFALL'].median()\n",
    "\n",
    "print(\"Summary Statistics:\")\n",
    "print(f\"Original Mean (All Days): {original_mean:.2f} mm\")\n",
    "print(f\"Original Median (All Days): {original_median:.2f} mm\\n\")\n",
    "print(f\"Mean (Rainy Days Only): {rainy_mean:.2f} mm\")\n",
    "print(f\"Median (Rainy Days Only): {rainy_median:.2f} mm\\n\")\n",
    "print(f\"Filtered Mean (Filtered Rainy Days Only): {filtered_mean:.2f} mm\")\n",
    "print(f\"Filtered Median (Filtered Rainy Days Only): {filtered_median:.2f} mm\")\n"
   ]
  },
  {
   "cell_type": "markdown",
   "id": "becdb5e8-bbcf-40f9-ae31-5660a1a406d7",
   "metadata": {},
   "source": [
    "### Questions\n",
    "1. Are there any outliers in the `Daily Rainfall` data? If so, what might they represent?\n",
    "2. How might these outliers affect the mean and median values of rainfall?\n",
    "3. How do zero-rain days affect the mean and median of rainfall?\n",
    "4. After filtering out both zero-rain days and the top 5% of rainfall values, how did the mean and median change? What does this suggest about the influence of zero values and extreme values on rainfall statistics?"
   ]
  },
  {
   "cell_type": "markdown",
   "id": "0b62fc00-4101-451e-9450-67d8dd342595",
   "metadata": {},
   "source": []
  },
  {
   "cell_type": "markdown",
   "id": "0fbfe3d7-a0a8-45ad-a547-be2cc3bd19db",
   "metadata": {},
   "source": [
    "---\n",
    "## Task 7: Scatter Plot - Temperature vs Rainfall\n",
    "From the `filtered_rainy_days_df` dataframe, create a scatter plot of `TEMP MEAN` vs. `Daily Rainfall` to explore if there’s any relationship between temperature and rainfall."
   ]
  },
  {
   "cell_type": "code",
   "execution_count": null,
   "id": "f89e16e4-bde7-4aef-915b-826651e22159",
   "metadata": {},
   "outputs": [],
   "source": [
    "import seaborn as sns\n",
    "from scipy.stats import pearsonr\n",
    "\n",
    "# Scatter plot with trend line\n",
    "plt.figure(figsize=(8, 5))\n",
    "sns.regplot(x='TEMP MEAN', y='DAILY RAINFALL', data=filtered_rainy_days_df, ci=None, line_kws={\"color\": \"red\"})\n",
    "plt.title(\"Temperature Mean vs Daily Rainfall (Filtered Data)\")\n",
    "plt.xlabel(\"Temperature Mean (°C)\")\n",
    "plt.ylabel(\"Daily Rainfall (mm)\")\n",
    "plt.show()\n",
    "\n",
    "# Calculate Pearson's correlation coefficient\n",
    "pearson_corr, p_value = pearsonr(filtered_rainy_days_df['TEMP MEAN'], filtered_rainy_days_df['DAILY RAINFALL'])\n",
    "print(f\"Pearson's Correlation Coefficient: {pearson_corr:.2f}\")\n",
    "print(f\"P-value: {p_value:.3f}\")\n"
   ]
  },
  {
   "cell_type": "markdown",
   "id": "964ffd97-91da-4b8d-ad83-84e8ed9e873e",
   "metadata": {},
   "source": [
    "### Questions\n",
    "1. What is Pearson’s correlation coefficient between TEMP MEAN and Daily Rainfall? Is it positive, negative, or close to zero?\n",
    "2. Based on the correlation coefficient and the trend line, do you observe a meaningful relationship between temperature and rainfall for moderate rainy days?\n",
    "3. How does the trend line help in visualizing the relationship, or lack thereof, between temperature and rainfall?"
   ]
  },
  {
   "cell_type": "markdown",
   "id": "011a4793-9175-49e0-98ba-2be8b4212565",
   "metadata": {},
   "source": []
  },
  {
   "cell_type": "markdown",
   "id": "0de836be-f5c2-4912-b727-22fa56c9c531",
   "metadata": {},
   "source": [
    "---\n",
    "## Task 8: Exploring Seasonal Patterns\n",
    "Group the `Daily Rainfall` data by month to observe seasonal patterns. Calculate the mean rainfall for each month and plot it to see how rainfall changes over the year."
   ]
  },
  {
   "cell_type": "code",
   "execution_count": null,
   "id": "761d9809-4e2b-4a03-8c10-c68b37a71ad8",
   "metadata": {},
   "outputs": [],
   "source": [
    "# Convert 'DATE' column to datetime format\n",
    "df['DATE'] = pd.to_datetime(df['DATE'], errors='coerce')  # 'errors=coerce' handles any invalid dates by setting them to NaT\n",
    "\n",
    "# Add a 'Month' column based on the DATE\n",
    "df['Month'] = df['DATE'].dt.month\n",
    "\n",
    "# Calculate mean monthly rainfall\n",
    "monthly_rainfall = df.groupby('Month')['DAILY RAINFALL'].mean()\n",
    "\n",
    "# Plot mean monthly rainfall\n",
    "plt.figure(figsize=(8, 5))\n",
    "monthly_rainfall.plot(kind='bar', color='skyblue', edgecolor='black')\n",
    "plt.title(\"Average Monthly Rainfall\")\n",
    "plt.xlabel(\"Month\")\n",
    "plt.ylabel(\"Average Daily Rainfall (mm)\")\n",
    "plt.xticks(rotation=0)\n",
    "plt.show()\n"
   ]
  },
  {
   "cell_type": "markdown",
   "id": "841d598d-aeb9-4e51-b334-70c096919c07",
   "metadata": {},
   "source": [
    "### Questions\n",
    "1. Which month(s) have the highest average rainfall? What might be causing this seasonal pattern?\n",
    "2. How does the seasonal variation in rainfall align with your expectations for the region?"
   ]
  },
  {
   "cell_type": "markdown",
   "id": "69807362-1cc7-4a0e-ad5b-6de9524df3ff",
   "metadata": {},
   "source": []
  }
 ],
 "metadata": {
  "kernelspec": {
   "display_name": "meteo203",
   "language": "python",
   "name": "meteo203"
  },
  "language_info": {
   "codemirror_mode": {
    "name": "ipython",
    "version": 3
   },
   "file_extension": ".py",
   "mimetype": "text/x-python",
   "name": "python",
   "nbconvert_exporter": "python",
   "pygments_lexer": "ipython3",
   "version": "3.10.14"
  }
 },
 "nbformat": 4,
 "nbformat_minor": 5
}
